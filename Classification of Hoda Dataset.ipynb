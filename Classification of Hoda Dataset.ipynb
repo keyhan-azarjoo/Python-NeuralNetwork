{
 "cells": [
  {
   "cell_type": "code",
   "execution_count": 1,
   "id": "561a74b7-c808-4b87-aee3-6017c3685974",
   "metadata": {},
   "outputs": [],
   "source": [
    "import numpy as np\n",
    "import glob as bb"
   ]
  },
  {
   "cell_type": "code",
   "execution_count": 2,
   "id": "53d207e1-7709-49d7-a1f4-b7bbf2f6c6bf",
   "metadata": {},
   "outputs": [
    {
     "ename": "SyntaxError",
     "evalue": "(unicode error) 'unicodeescape' codec can't decode bytes in position 2-3: truncated \\UXXXXXXXX escape (Temp/ipykernel_10128/1678480680.py, line 1)",
     "output_type": "error",
     "traceback": [
      "\u001b[1;36m  File \u001b[1;32m\"C:\\Users\\HP\\AppData\\Local\\Temp/ipykernel_10128/1678480680.py\"\u001b[1;36m, line \u001b[1;32m1\u001b[0m\n\u001b[1;33m    images_path = gb.glob(\"C:\\Users\\HP\\OneDrive - Teesside University\\Uni\\Semester 2\\Neural Network\\Faradars\\New folder\\FVPHT9810-S02\\Files and Codes\\Hoda 0-9\")\u001b[0m\n\u001b[1;37m                                                                                                                                                               ^\u001b[0m\n\u001b[1;31mSyntaxError\u001b[0m\u001b[1;31m:\u001b[0m (unicode error) 'unicodeescape' codec can't decode bytes in position 2-3: truncated \\UXXXXXXXX escape\n"
     ]
    }
   ],
   "source": [
    "images_path = gb.glob(\"C:\\Users\\HP\\OneDrive - Teesside University\\Uni\\Semester 2\\Neural Network\\Faradars\\New folder\\FVPHT9810-S02\\Files and Codes\\Hoda 0-9\")"
   ]
  },
  {
   "cell_type": "code",
   "execution_count": null,
   "id": "11f6df08-4a51-482e-ba62-cdcf672bb27e",
   "metadata": {},
   "outputs": [],
   "source": []
  }
 ],
 "metadata": {
  "kernelspec": {
   "display_name": "Python 3 (ipykernel)",
   "language": "python",
   "name": "python3"
  },
  "language_info": {
   "codemirror_mode": {
    "name": "ipython",
    "version": 3
   },
   "file_extension": ".py",
   "mimetype": "text/x-python",
   "name": "python",
   "nbconvert_exporter": "python",
   "pygments_lexer": "ipython3",
   "version": "3.9.7"
  }
 },
 "nbformat": 4,
 "nbformat_minor": 5
}
